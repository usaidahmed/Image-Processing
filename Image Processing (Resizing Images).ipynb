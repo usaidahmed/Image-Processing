{
 "cells": [
  {
   "cell_type": "code",
   "execution_count": 1,
   "metadata": {},
   "outputs": [
    {
     "name": "stdout",
     "output_type": "stream",
     "text": [
      "Found directory: C:\\Users\\DELL-PC\\Desktop\\Image Processing\\Photos\\\n",
      "\timage(0).jfif\n",
      "Found directory: C:\\Users\\DELL-PC\\Desktop\\Image Processing\\Photos\\\n",
      "\timage(10).jpg\n",
      "Found directory: C:\\Users\\DELL-PC\\Desktop\\Image Processing\\Photos\\\n",
      "\timage(11).jpg\n",
      "Found directory: C:\\Users\\DELL-PC\\Desktop\\Image Processing\\Photos\\\n",
      "\timage(13).jpg\n",
      "Found directory: C:\\Users\\DELL-PC\\Desktop\\Image Processing\\Photos\\\n",
      "\timage(14).jpg\n",
      "Found directory: C:\\Users\\DELL-PC\\Desktop\\Image Processing\\Photos\\\n",
      "\timage(15).jpg\n",
      "Found directory: C:\\Users\\DELL-PC\\Desktop\\Image Processing\\Photos\\\n",
      "\timage(16).jpg\n",
      "Found directory: C:\\Users\\DELL-PC\\Desktop\\Image Processing\\Photos\\\n",
      "\timage(17).jpg\n",
      "Found directory: C:\\Users\\DELL-PC\\Desktop\\Image Processing\\Photos\\\n",
      "\timage(18).jpg\n",
      "Found directory: C:\\Users\\DELL-PC\\Desktop\\Image Processing\\Photos\\\n",
      "\timage(19).jpg\n",
      "Found directory: C:\\Users\\DELL-PC\\Desktop\\Image Processing\\Photos\\\n",
      "\timage(2).jfif\n",
      "Found directory: C:\\Users\\DELL-PC\\Desktop\\Image Processing\\Photos\\\n",
      "\timage(20).jfif\n",
      "Found directory: C:\\Users\\DELL-PC\\Desktop\\Image Processing\\Photos\\\n",
      "\timage(3).jfif\n",
      "Found directory: C:\\Users\\DELL-PC\\Desktop\\Image Processing\\Photos\\\n",
      "\timage(4).jfif\n",
      "Found directory: C:\\Users\\DELL-PC\\Desktop\\Image Processing\\Photos\\\n",
      "\timage(5).jfif\n",
      "Found directory: C:\\Users\\DELL-PC\\Desktop\\Image Processing\\Photos\\\n",
      "\timage(6).jfif\n",
      "Found directory: C:\\Users\\DELL-PC\\Desktop\\Image Processing\\Photos\\\n",
      "\timage(7).jpg\n",
      "Found directory: C:\\Users\\DELL-PC\\Desktop\\Image Processing\\Photos\\\n",
      "\timage(8).jpg\n",
      "Found directory: C:\\Users\\DELL-PC\\Desktop\\Image Processing\\Photos\\\n",
      "\timage(9).jpg\n",
      "Found directory: C:\\Users\\DELL-PC\\Desktop\\Image Processing\\Photos\\\n",
      "\timages (1).jfif\n",
      "Found directory: C:\\Users\\DELL-PC\\Desktop\\Image Processing\\Photos\\\n"
     ]
    }
   ],
   "source": [
    "from PIL import Image\n",
    "import os, sys\n",
    "\n",
    "# Set the directory you want to start from\n",
    "rootDir = 'C:\\\\Users\\DELL-PC\\\\Desktop\\\\Image Processing\\\\Photos\\\\'\n",
    "for dirName, subdirList, fileList in os.walk(rootDir):\n",
    "    print('Found directory: %s' % dirName)\n",
    "    for fname in fileList:\n",
    "        print('\\t%s' % fname)\n",
    "        print('Found directory: %s' % dirName)\n",
    "\n",
    "path = ('C:\\\\Users\\DELL-PC\\\\Desktop\\\\Image Processing\\\\Photos\\\\')\n",
    "dirs = os.listdir( path )\n",
    "\n",
    "def resize():\n",
    "    for item in dirs:\n",
    "        if os.path.isfile(path+item):\n",
    "            im = Image.open(path+item)\n",
    "            f, e = os.path.splitext(path+item)\n",
    "            imResize = im.resize((200,200), Image.ANTIALIAS)\n",
    "            imResize.save(\"C:\\\\Users\\\\DELL-PC\\\\Desktop\\\\Image Processing\\\\Resized Images\\\\\" + item + ' resized.jpg', 'JPEG', quality=100)\n",
    "\n",
    "resize()\n",
    "#Antialising is used to remove jagged or stair-step lines caused when a higer resolution picture is presented on a lower resolution."
   ]
  },
  {
   "cell_type": "code",
   "execution_count": 2,
   "metadata": {},
   "outputs": [
    {
     "name": "stdout",
     "output_type": "stream",
     "text": [
      "(20, 200, 200, 3)\n"
     ]
    }
   ],
   "source": [
    "folder = \"C:\\\\Users\\\\DELL-PC\\\\Desktop\\\\Image Processing\\\\Resized Images\\\\\"\n",
    "images = sorted(os.listdir(folder))\n",
    "\n",
    "import numpy as np \n",
    "\n",
    "images_array = []\n",
    "for image in images:\n",
    "    im = Image.open(folder + image)\n",
    "    images_array.append(np.asarray(im))\n",
    "\n",
    "images_array = np.array(images_array)\n",
    "print(images_array.shape)"
   ]
  },
  {
   "cell_type": "code",
   "execution_count": null,
   "metadata": {},
   "outputs": [],
   "source": []
  },
  {
   "cell_type": "code",
   "execution_count": null,
   "metadata": {},
   "outputs": [],
   "source": []
  }
 ],
 "metadata": {
  "kernelspec": {
   "display_name": "Python 3",
   "language": "python",
   "name": "python3"
  },
  "language_info": {
   "codemirror_mode": {
    "name": "ipython",
    "version": 3
   },
   "file_extension": ".py",
   "mimetype": "text/x-python",
   "name": "python",
   "nbconvert_exporter": "python",
   "pygments_lexer": "ipython3",
   "version": "3.7.3"
  }
 },
 "nbformat": 4,
 "nbformat_minor": 2
}
