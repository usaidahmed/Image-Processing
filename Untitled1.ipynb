{
 "cells": [
  {
   "cell_type": "code",
   "execution_count": 12,
   "metadata": {},
   "outputs": [
    {
     "name": "stderr",
     "output_type": "stream",
     "text": [
      "usage: ipykernel_launcher.py [-h] [-i INPUT_DIR] [-o OUTPUT_DIR] [-w WIDTH]\n",
      "                             [-t HEIGHT]\n",
      "ipykernel_launcher.py: error: unrecognized arguments: -f C:\\Users\\DELL-PC\\AppData\\Roaming\\jupyter\\runtime\\kernel-6924b47b-9f71-47f9-b999-c400721025b0.json\n"
     ]
    },
    {
     "ename": "SystemExit",
     "evalue": "2",
     "output_type": "error",
     "traceback": [
      "An exception has occurred, use %tb to see the full traceback.\n",
      "\u001b[1;31mSystemExit\u001b[0m\u001b[1;31m:\u001b[0m 2\n"
     ]
    }
   ],
   "source": [
    "import os\n",
    "import argparse\n",
    "from PIL import Image\n",
    "\n",
    "DEFAULT_SIZE = (200, 200)\n",
    "\n",
    "\n",
    "def resize_image(input_dir, infile, output_dir=\"resized\", size=DEFAULT_SIZE):\n",
    "    outfile = os.path.splitext(infile)[0] + \"_resized\"\n",
    "    extension = os.path.splitext(infile)[1]\n",
    "\n",
    "    try:\n",
    "        img = Image.open(input_dir + '/' + infile)\n",
    "        img = img.resize((size[0], size[1]), Image.LANCZOS)\n",
    "\n",
    "        new_file = output_dir + \"/\" + outfile + extension\n",
    "        img.save(new_file)\n",
    "    except IOError:\n",
    "        print(\"unable to resize image {}\".format(infile))\n",
    "\n",
    "\n",
    "if __name__ == \"__main__\":\n",
    "    dir = os.getcwd()\n",
    "\n",
    "    parser = argparse.ArgumentParser()\n",
    "    parser.add_argument('-i', '--input_dir'=\"C:\\\\Users\\\\DELL-PC\\\\Desktop\\\\Image Processing\\\\Photos\\\\\", help='Full Input Path')\n",
    "    parser.add_argument('-o', '--output_dir'=\"C:\\\\Users\\\\DELL-PC\\\\Desktop\\\\Image Processing\\\\Resized Images\", help='Full Output Path')\n",
    "\n",
    "    parser.add_argument('-w', '--width', help='Resized Width')\n",
    "    parser.add_argument('-t', '--height', help='Resized Height')\n",
    "\n",
    "    args = parser.parse_args()\n",
    "\n",
    "    if args.input_dir:\n",
    "        input_dir = args.input_dir\n",
    "    else:\n",
    "        input_dir = dir + '/images'\n",
    "\n",
    "    if args.output_dir:\n",
    "        output_dir = args.output_dir\n",
    "    else:\n",
    "        output_dir = dir + '/resized'\n",
    "\n",
    "    if args.width and args.height:\n",
    "        size = (int(args.width), int(args.height))\n",
    "    else:\n",
    "        size = DEFAULT_SIZE\n",
    "\n",
    "    if not os.path.exists(os.path.join(dir, output_dir)):\n",
    "        os.mkdir(output_dir)\n",
    "\n",
    "    try:\n",
    "        for file in os.listdir(input_dir):\n",
    "            resize_image(input_dir, file, output_dir, size=size)\n",
    "    except OSError:\n",
    "        print('file not found')\n",
    "        \n",
    "input_dir = \"C:\\\\Users\\\\DELL-PC\\\\Desktop\\\\Image Processing\\\\Photos\\\\\"\n",
    "output_dir = \"C:\\\\Users\\\\DELL-PC\\\\Desktop\\\\Image Processing\\\\Resized Images\""
   ]
  },
  {
   "cell_type": "code",
   "execution_count": null,
   "metadata": {},
   "outputs": [],
   "source": [
    "               "
   ]
  }
 ],
 "metadata": {
  "kernelspec": {
   "display_name": "Python 3",
   "language": "python",
   "name": "python3"
  },
  "language_info": {
   "codemirror_mode": {
    "name": "ipython",
    "version": 3
   },
   "file_extension": ".py",
   "mimetype": "text/x-python",
   "name": "python",
   "nbconvert_exporter": "python",
   "pygments_lexer": "ipython3",
   "version": "3.7.3"
  }
 },
 "nbformat": 4,
 "nbformat_minor": 2
}
